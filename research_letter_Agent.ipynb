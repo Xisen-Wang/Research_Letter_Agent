{
 "cells": [
  {
   "cell_type": "markdown",
   "source": [
    "## This is an Agent for generating personalised Agent\n",
    "\n",
    "#### It is one module from the overall model of JobHunter"
   ],
   "metadata": {
    "collapsed": false
   },
   "id": "9c576f98704636d2"
  },
  {
   "cell_type": "markdown",
   "source": [
    "### Import Necessary Packages"
   ],
   "metadata": {
    "collapsed": false
   },
   "id": "25c3f51a650a0212"
  },
  {
   "cell_type": "code",
   "outputs": [
    {
     "name": "stdout",
     "output_type": "stream",
     "text": [
      "Requirement already satisfied: serpapi in ./jobEnv/lib/python3.9/site-packages (0.1.5)\r\n",
      "Requirement already satisfied: requests in ./jobEnv/lib/python3.9/site-packages (from serpapi) (2.31.0)\r\n",
      "Requirement already satisfied: charset-normalizer<4,>=2 in ./jobEnv/lib/python3.9/site-packages (from requests->serpapi) (3.2.0)\r\n",
      "Requirement already satisfied: idna<4,>=2.5 in ./jobEnv/lib/python3.9/site-packages (from requests->serpapi) (3.4)\r\n",
      "Requirement already satisfied: urllib3<3,>=1.21.1 in ./jobEnv/lib/python3.9/site-packages (from requests->serpapi) (1.26.17)\r\n",
      "Requirement already satisfied: certifi>=2017.4.17 in ./jobEnv/lib/python3.9/site-packages (from requests->serpapi) (2023.7.22)\r\n",
      "Requirement already satisfied: googlesearch-python in ./jobEnv/lib/python3.9/site-packages (1.2.3)\r\n",
      "Requirement already satisfied: beautifulsoup4>=4.9 in ./jobEnv/lib/python3.9/site-packages (from googlesearch-python) (4.12.2)\r\n",
      "Requirement already satisfied: requests>=2.20 in ./jobEnv/lib/python3.9/site-packages (from googlesearch-python) (2.31.0)\r\n",
      "Requirement already satisfied: soupsieve>1.2 in ./jobEnv/lib/python3.9/site-packages (from beautifulsoup4>=4.9->googlesearch-python) (2.5)\r\n",
      "Requirement already satisfied: charset-normalizer<4,>=2 in ./jobEnv/lib/python3.9/site-packages (from requests>=2.20->googlesearch-python) (3.2.0)\r\n",
      "Requirement already satisfied: idna<4,>=2.5 in ./jobEnv/lib/python3.9/site-packages (from requests>=2.20->googlesearch-python) (3.4)\r\n",
      "Requirement already satisfied: urllib3<3,>=1.21.1 in ./jobEnv/lib/python3.9/site-packages (from requests>=2.20->googlesearch-python) (1.26.17)\r\n",
      "Requirement already satisfied: certifi>=2017.4.17 in ./jobEnv/lib/python3.9/site-packages (from requests>=2.20->googlesearch-python) (2023.7.22)\r\n",
      "Requirement already satisfied: google-search-results in ./jobEnv/lib/python3.9/site-packages (2.4.2)\r\n",
      "Requirement already satisfied: requests in ./jobEnv/lib/python3.9/site-packages (from google-search-results) (2.31.0)\r\n",
      "Requirement already satisfied: charset-normalizer<4,>=2 in ./jobEnv/lib/python3.9/site-packages (from requests->google-search-results) (3.2.0)\r\n",
      "Requirement already satisfied: idna<4,>=2.5 in ./jobEnv/lib/python3.9/site-packages (from requests->google-search-results) (3.4)\r\n",
      "Requirement already satisfied: urllib3<3,>=1.21.1 in ./jobEnv/lib/python3.9/site-packages (from requests->google-search-results) (1.26.17)\r\n",
      "Requirement already satisfied: certifi>=2017.4.17 in ./jobEnv/lib/python3.9/site-packages (from requests->google-search-results) (2023.7.22)\r\n"
     ]
    }
   ],
   "source": [
    "!pip install serpapi\n",
    "!pip install googlesearch-python\n",
    "!pip install google-search-results "
   ],
   "metadata": {
    "collapsed": false,
    "ExecuteTime": {
     "end_time": "2024-03-17T04:17:59.194207Z",
     "start_time": "2024-03-17T04:17:55.653916Z"
    }
   },
   "id": "618c50a93b962a86",
   "execution_count": 10
  },
  {
   "cell_type": "code",
   "outputs": [],
   "source": [
    "import serpapi\n",
    "import pandas as pd"
   ],
   "metadata": {
    "collapsed": false,
    "ExecuteTime": {
     "end_time": "2024-03-17T12:08:48.463980Z",
     "start_time": "2024-03-17T12:08:48.413495Z"
    }
   },
   "id": "1f0451641057e7b",
   "execution_count": 21
  },
  {
   "cell_type": "markdown",
   "source": [
    "### Let's try a sample for google_search"
   ],
   "metadata": {
    "collapsed": false
   },
   "id": "f3b19f88f19e85a"
  },
  {
   "cell_type": "code",
   "outputs": [
    {
     "name": "stdout",
     "output_type": "stream",
     "text": [
      "<serpapi.google_search.GoogleSearch object at 0x125992d30>\n"
     ]
    }
   ],
   "source": [
    "from serpapi import GoogleSearch\n",
    "\n",
    "params = {\n",
    "  \"api_key\": \"\",\n",
    "  \"engine\": \"google_scholar_author\",\n",
    "  \"hl\": \"en\",\n",
    "  \"author_id\": \"EicYvbwAAAAJ\"\n",
    "}\n",
    "\n",
    "search = GoogleSearch(params)\n",
    "\n",
    "search.get_dict()\n",
    "\n",
    "#search = serpapi.search(params)\n",
    "print(search)\n"
   ],
   "metadata": {
    "collapsed": false,
    "ExecuteTime": {
     "end_time": "2024-03-17T12:10:04.469849Z",
     "start_time": "2024-03-17T12:09:58.004700Z"
    }
   },
   "id": "5aa6d8ab7ed7a5e2",
   "execution_count": 26
  },
  {
   "cell_type": "code",
   "outputs": [
    {
     "ename": "AttributeError",
     "evalue": "'generator' object has no attribute '__dict__'",
     "output_type": "error",
     "traceback": [
      "\u001B[0;31m---------------------------------------------------------------------------\u001B[0m",
      "\u001B[0;31mAttributeError\u001B[0m                            Traceback (most recent call last)",
      "Cell \u001B[0;32mIn[25], line 3\u001B[0m\n\u001B[1;32m      1\u001B[0m \u001B[38;5;28;01mfrom\u001B[39;00m \u001B[38;5;21;01mgooglesearch\u001B[39;00m \u001B[38;5;28;01mimport\u001B[39;00m search\n\u001B[0;32m----> 3\u001B[0m \u001B[38;5;28mprint\u001B[39m(\u001B[43msearch\u001B[49m\u001B[43m(\u001B[49m\u001B[38;5;124;43m\"\u001B[39;49m\u001B[38;5;124;43mGoogle\u001B[39;49m\u001B[38;5;124;43m\"\u001B[39;49m\u001B[43m,\u001B[49m\u001B[43m \u001B[49m\u001B[43madvanced\u001B[49m\u001B[38;5;241;43m=\u001B[39;49m\u001B[38;5;28;43;01mTrue\u001B[39;49;00m\u001B[43m,\u001B[49m\u001B[43mnum_results\u001B[49m\u001B[38;5;241;43m=\u001B[39;49m\u001B[38;5;241;43m100\u001B[39;49m\u001B[43m)\u001B[49m\u001B[38;5;241;43m.\u001B[39;49m\u001B[38;5;18;43m__dict__\u001B[39;49m)\n",
      "\u001B[0;31mAttributeError\u001B[0m: 'generator' object has no attribute '__dict__'"
     ]
    }
   ],
   "source": [
    "from googlesearch import search\n",
    "\n",
    "print(search(\"Google\", advanced=True,num_results=100))\n"
   ],
   "metadata": {
    "collapsed": false,
    "ExecuteTime": {
     "end_time": "2024-03-17T12:09:43.410749Z",
     "start_time": "2024-03-17T12:09:43.378827Z"
    }
   },
   "id": "3190b467bff45b60",
   "execution_count": 25
  },
  {
   "cell_type": "markdown",
   "source": [
    "## Let's encapsulate a function\n",
    "\n"
   ],
   "metadata": {
    "collapsed": false
   },
   "id": "9c86f77b3a01c252"
  },
  {
   "cell_type": "code",
   "outputs": [],
   "source": [
    "API_KEY_SERP = \"""
   ],
   "metadata": {
    "collapsed": false,
    "ExecuteTime": {
     "end_time": "2024-03-17T12:10:18.745299Z",
     "start_time": "2024-03-17T12:10:18.734763Z"
    }
   },
   "id": "a7dab8ed79f25a3d",
   "execution_count": 27
  },
  {
   "cell_type": "code",
   "outputs": [],
   "source": [
    "def getGoogleResult(keywords):\n",
    "  '''\n",
    "  :param keywords: name + uni\n",
    "  :return: search results\n",
    "  '''\n",
    "  params = {\n",
    "    \"api_key\": API_KEY_SERP,\n",
    "    \"engine\": \"google_scholar\",\n",
    "    \"q\": keywords,\n",
    "    \"hl\": \"en\"\n",
    "  }\n",
    "  result = GoogleSearch(params)\n",
    "  #search = serpapi.search(params)\n",
    "  result = result.get_dict()\n",
    "  return result"
   ],
   "metadata": {
    "collapsed": false,
    "ExecuteTime": {
     "end_time": "2024-03-17T12:12:19.162393Z",
     "start_time": "2024-03-17T12:12:19.135973Z"
    }
   },
   "id": "50f2461b477cf752",
   "execution_count": 35
  },
  {
   "cell_type": "code",
   "outputs": [],
   "source": [
    "# Input First & For Testing \n",
    "prof_name = input(\"Enter the name of the professor\")\n",
    "uni = input(\"Enter the university\")\n",
    "my_name = \"Xisen Wang\""
   ],
   "metadata": {
    "collapsed": false,
    "ExecuteTime": {
     "end_time": "2024-03-17T12:12:22.372178Z",
     "start_time": "2024-03-17T12:12:19.897452Z"
    }
   },
   "id": "a2114fb9f1a17b8b",
   "execution_count": 36
  },
  {
   "cell_type": "markdown",
   "source": [
    "### Let's build the OPEN_AI Function"
   ],
   "metadata": {
    "collapsed": false
   },
   "id": "a68fbe4014c0b582"
  },
  {
   "cell_type": "markdown",
   "source": [
    "### Let's build up the prompt & pipline"
   ],
   "metadata": {
    "collapsed": false
   },
   "id": "1469919248e6f862"
  },
  {
   "cell_type": "code",
   "outputs": [],
   "source": [
    "import json\n",
    "def fetch_resume(name):\n",
    "    with open('save/resume_database.json', 'r') as f:\n",
    "        database = json.load(f)\n",
    "        print(database.get(name, None))\n",
    "    return database.get(name, None)"
   ],
   "metadata": {
    "collapsed": false,
    "ExecuteTime": {
     "end_time": "2024-03-17T04:18:32.562686Z",
     "start_time": "2024-03-17T04:18:32.555936Z"
    }
   },
   "id": "f83a87a325bb94b8",
   "execution_count": 18
  },
  {
   "cell_type": "code",
   "outputs": [
    {
     "name": "stdout",
     "output_type": "stream",
     "text": [
      "- Study program: Oxford Engineering Science, 2nd year\r\n",
      "- Emphasis on engineering principles and scientific fundamentals \r\n",
      "- Likely covers advanced topics in mathematics, physics, mechanics, materials science, and electronics \r\n",
      "- Expected to have hands-on experience with various engineering projects and labs \r\n",
      "- Opportunity to specialize in different engineering disciplines \r\n",
      "- In-depth study of engineering design and problem-solving skills \r\n",
      "- Potential for collaborative projects with industry professionals and research institutions \r\n",
      "- Prestigious program offered by one of the world's top universities \r\n",
      "- Provides a strong foundation for a career in engineering or further studies at the graduate level.\n",
      "- President & Team Leader at Engineering Without Borders (2022.10-2023.09)\n",
      "  - Spearheaded a biomedical imaging project using advanced machine learning algorithms.\n",
      "  - Elected as President and led the recruitment of key committee and project roles.\n",
      "  - Managed society governance and responsibilities.\n",
      "\n",
      "- CEO and Founder of WeLight Tech (2021.12-2023.09)\n",
      "  - Developed an AI-course recommendation system for Chinese high school students.\n",
      "  - Pivoted focus to an AI-driven one-shop solution for college applications.\n",
      "  - Grew the team to 15 professionals and admitted into the Oxford Venture Builder program.\n",
      "\n",
      "- Founding President of Studies, Experiments, Applications (SEA) Academy (2020.04-2023.05)\n",
      "  - Established a non-profit platform to make research opportunities more accessible.\n",
      "  - Recruited scholars, built an academic community, and published a journal.\n",
      "  - Won the Innovation Challenge Prize from the Youth International Entrepreneurship Challenge.\n",
      "\n",
      "- Scholar in the Microsoft AI Talent Program (2022.01-2022.02)\n",
      "  - Practiced machine learning, python, and data processing.\n",
      "  - Presented a decision tree project and learned about Microsoft's developments.\n",
      "\n",
      "- Team Leader in the Tecent T-Spark Program (2020.08-2020.11)\n",
      "  - Learned computer vision, CNN, mini-app development, and data processing.\n",
      "  - Trained a CNN model and developed a Mini-App.\n",
      "  - Ranked 8th out of 1300+ teams in the Grand Final.\n",
      "\n",
      "- Researcher in Image Fusion, Computer Vision & Neural Network (2022.06-2023.08)\n",
      "  - Granted Fung Scholarship for groundbreaking research on image fusion.\n",
      "  - Developed novel single-view, multi-focus image fusion algorithms.\n",
      "  - Broadened applicability in diverse fields like medical imaging and remote sensing.\n",
      "\n",
      "- Scholar and Researcher in Equitech Scholars Programme (2022.06-2023.08)\n",
      "  - Conducted analysis on the correlation between university attributes and student mental health.\n",
      "  - Utilized NLP techniques to analyze university mottos and assess their semantic relationship.\n",
      "  - Concluded that university ranking and institutional ethos do not significantly affect student mental health.\n",
      "\n",
      "- Research Intern in Tencent Aspiring Explorers in Science (2022.06-2023.03)\n",
      "  - Modelled the None-Line-Of-Sight Imaging process and proposed a new algorithm.\n",
      "  - Reconstructed images with good quality and presented findings in an academic paper.\n",
      "\n",
      "- Author and Researcher in Machine Learning & Mechanics (2021.05-2021.11)\n",
      "  - Developed an LSTM-based model for simulating the chaotic behavior of double pendulums.\n",
      "  - Demonstrated cross-disciplinary innovation and published findings in a journal.\n",
      "\n",
      "Note: The information provided is based on the given text and may not be comprehensive.\n",
      "- Experience as an AI Engineer Summer Intern at HUAWEI Technology in Shanghai, China from Aug - Sept 2023.\n",
      "    - Constructed custom vector addition project using HUAWEI's CANN architecture and AscendC Language on 910B processor.\n",
      "    - Optimized the operator by adjusting the host-side memory management and tiling strategy to accommodate vectors of millions of bits.\n",
      "    - Built and generalized the RMS Norm Operator in C++ for improved efficiency and memory management in forward neural networks.\n",
      "\n",
      "- Worked as a Web Scraping Engineer (Micro-internship) at VANN Ltd in Oxfordshire, UK in March 2023.\n",
      "    - Developed a web-scraping tool in Selenium to extract information on clinical trials from public websites and reliable sources.\n",
      "    - Collected and processed over 3000 pieces of data from Cancer Research UK, contributing to the company's app development aimed at building a supportive platform for cancer patients.\n",
      "\n",
      "- Served as a Cybersecurity Consultant Intern at ZCRK Information Technology in Beijing, China from July - Sept 2021.\n",
      "    - Led a project for the startup that offers commercial insurance for L3-L4 autonomous vehicles in China.\n",
      "    - Designed an OTA Spectrum Poisoning Attack Detection System by utilizing white noise testing in spectrum data and ANN models.\n",
      "    - Performed extensive web scraping for different vehicle data, contributing to the company's database.\n",
      "    - Ran simulations to enhance the Detection System and implemented it in the company's insurance solution-generating platform.\n",
      "- Awards:\n",
      "  - National 1st, Tencent Aspiring Explorers in Science, 2023\n",
      "  - 7th, Europe Terminal, 2023\n",
      "  - National Finalist, Tencent Light Initiative, 2022\n",
      "  - 80th global, Princeton University Physics Competition, 2021\n",
      "  - Gold, American Physics Bowl, 2021\n",
      "  - Global Finalist, S.T. - Yau HS Computer Science Award, 2021\n",
      "  - National Finalist, Tencent T-Spark AI Future Camp, 2021\n",
      "  - Global 1st, Canadian Caribou Math Test, 2020\n",
      "\n",
      "- Computer Skills:\n",
      "  - Developing: Java, Python, Javascript, HTML, CSS\n",
      "  - Modelling: MATLAB, SIMULINK, Solidworks, Frame2D\n",
      "  - Front-end: Flutter, Material UI\n",
      "  - Backend: Flask, Wix Velo\n",
      "  - Version Control: Git, VI, Github\n",
      "  - Data Manipulation: Excel, Numpy, Pandas, Seaborn, Tableau\n",
      "  - Deep Learning: Resnet, LSTM, CNN, Transformer, RNN\n",
      "  - Web Scraping: BeautifulSoup, Selenium, Octopus\n",
      "\n",
      "- Language Skills:\n",
      "  - English, TOEFL: 118\n",
      "  - Japanese: JLPT: N3\n",
      "  - French, A1\n",
      "- Study program: Oxford Engineering Science, 2nd year\r\n",
      "- Emphasis on engineering principles and scientific fundamentals \r\n",
      "- Likely covers advanced topics in mathematics, physics, mechanics, materials science, and electronics \r\n",
      "- Expected to have hands-on experience with various engineering projects and labs \r\n",
      "- Opportunity to specialize in different engineering disciplines \r\n",
      "- In-depth study of engineering design and problem-solving skills \r\n",
      "- Potential for collaborative projects with industry professionals and research institutions \r\n",
      "- Prestigious program offered by one of the world's top universities \r\n",
      "- Provides a strong foundation for a career in engineering or further studies at the graduate level.\n",
      "- President & Team Leader at Engineering Without Borders (2022.10-2023.09)\n",
      "  - Spearheaded a biomedical imaging project using advanced machine learning algorithms.\n",
      "  - Elected as President and led the recruitment of key committee and project roles.\n",
      "  - Managed society governance and responsibilities.\n",
      "\n",
      "- CEO and Founder of WeLight Tech (2021.12-2023.09)\n",
      "  - Developed an AI-course recommendation system for Chinese high school students.\n",
      "  - Pivoted focus to an AI-driven one-shop solution for college applications.\n",
      "  - Grew the team to 15 professionals and admitted into the Oxford Venture Builder program.\n",
      "\n",
      "- Founding President of Studies, Experiments, Applications (SEA) Academy (2020.04-2023.05)\n",
      "  - Established a non-profit platform to make research opportunities more accessible.\n",
      "  - Recruited scholars, built an academic community, and published a journal.\n",
      "  - Won the Innovation Challenge Prize from the Youth International Entrepreneurship Challenge.\n",
      "\n",
      "- Scholar in the Microsoft AI Talent Program (2022.01-2022.02)\n",
      "  - Practiced machine learning, python, and data processing.\n",
      "  - Presented a decision tree project and learned about Microsoft's developments.\n",
      "\n",
      "- Team Leader in the Tecent T-Spark Program (2020.08-2020.11)\n",
      "  - Learned computer vision, CNN, mini-app development, and data processing.\n",
      "  - Trained a CNN model and developed a Mini-App.\n",
      "  - Ranked 8th out of 1300+ teams in the Grand Final.\n",
      "\n",
      "- Researcher in Image Fusion, Computer Vision & Neural Network (2022.06-2023.08)\n",
      "  - Granted Fung Scholarship for groundbreaking research on image fusion.\n",
      "  - Developed novel single-view, multi-focus image fusion algorithms.\n",
      "  - Broadened applicability in diverse fields like medical imaging and remote sensing.\n",
      "\n",
      "- Scholar and Researcher in Equitech Scholars Programme (2022.06-2023.08)\n",
      "  - Conducted analysis on the correlation between university attributes and student mental health.\n",
      "  - Utilized NLP techniques to analyze university mottos and assess their semantic relationship.\n",
      "  - Concluded that university ranking and institutional ethos do not significantly affect student mental health.\n",
      "\n",
      "- Research Intern in Tencent Aspiring Explorers in Science (2022.06-2023.03)\n",
      "  - Modelled the None-Line-Of-Sight Imaging process and proposed a new algorithm.\n",
      "  - Reconstructed images with good quality and presented findings in an academic paper.\n",
      "\n",
      "- Author and Researcher in Machine Learning & Mechanics (2021.05-2021.11)\n",
      "  - Developed an LSTM-based model for simulating the chaotic behavior of double pendulums.\n",
      "  - Demonstrated cross-disciplinary innovation and published findings in a journal.\n",
      "\n",
      "Note: The information provided is based on the given text and may not be comprehensive.\n",
      "- Experience as an AI Engineer Summer Intern at HUAWEI Technology in Shanghai, China from Aug - Sept 2023.\n",
      "    - Constructed custom vector addition project using HUAWEI's CANN architecture and AscendC Language on 910B processor.\n",
      "    - Optimized the operator by adjusting the host-side memory management and tiling strategy to accommodate vectors of millions of bits.\n",
      "    - Built and generalized the RMS Norm Operator in C++ for improved efficiency and memory management in forward neural networks.\n",
      "\n",
      "- Worked as a Web Scraping Engineer (Micro-internship) at VANN Ltd in Oxfordshire, UK in March 2023.\n",
      "    - Developed a web-scraping tool in Selenium to extract information on clinical trials from public websites and reliable sources.\n",
      "    - Collected and processed over 3000 pieces of data from Cancer Research UK, contributing to the company's app development aimed at building a supportive platform for cancer patients.\n",
      "\n",
      "- Served as a Cybersecurity Consultant Intern at ZCRK Information Technology in Beijing, China from July - Sept 2021.\n",
      "    - Led a project for the startup that offers commercial insurance for L3-L4 autonomous vehicles in China.\n",
      "    - Designed an OTA Spectrum Poisoning Attack Detection System by utilizing white noise testing in spectrum data and ANN models.\n",
      "    - Performed extensive web scraping for different vehicle data, contributing to the company's database.\n",
      "    - Ran simulations to enhance the Detection System and implemented it in the company's insurance solution-generating platform.\n",
      "- Awards:\n",
      "  - National 1st, Tencent Aspiring Explorers in Science, 2023\n",
      "  - 7th, Europe Terminal, 2023\n",
      "  - National Finalist, Tencent Light Initiative, 2022\n",
      "  - 80th global, Princeton University Physics Competition, 2021\n",
      "  - Gold, American Physics Bowl, 2021\n",
      "  - Global Finalist, S.T. - Yau HS Computer Science Award, 2021\n",
      "  - National Finalist, Tencent T-Spark AI Future Camp, 2021\n",
      "  - Global 1st, Canadian Caribou Math Test, 2020\n",
      "\n",
      "- Computer Skills:\n",
      "  - Developing: Java, Python, Javascript, HTML, CSS\n",
      "  - Modelling: MATLAB, SIMULINK, Solidworks, Frame2D\n",
      "  - Front-end: Flutter, Material UI\n",
      "  - Backend: Flask, Wix Velo\n",
      "  - Version Control: Git, VI, Github\n",
      "  - Data Manipulation: Excel, Numpy, Pandas, Seaborn, Tableau\n",
      "  - Deep Learning: Resnet, LSTM, CNN, Transformer, RNN\n",
      "  - Web Scraping: BeautifulSoup, Selenium, Octopus\n",
      "\n",
      "- Language Skills:\n",
      "  - English, TOEFL: 118\n",
      "  - Japanese: JLPT: N3\n",
      "  - French, A1\n"
     ]
    }
   ],
   "source": [
    "resume = fetch_resume(my_name)\n",
    "print(resume)"
   ],
   "metadata": {
    "collapsed": false,
    "ExecuteTime": {
     "end_time": "2024-03-17T04:18:33.614888Z",
     "start_time": "2024-03-17T04:18:33.608846Z"
    }
   },
   "id": "93de643aaff03f07",
   "execution_count": 19
  },
  {
   "cell_type": "markdown",
   "source": [
    "#### Now let's get information from the professor "
   ],
   "metadata": {
    "collapsed": false
   },
   "id": "6e236fdbb078908a"
  },
  {
   "cell_type": "code",
   "outputs": [
    {
     "ename": "AttributeError",
     "evalue": "module 'serpapi' has no attribute 'search'",
     "output_type": "error",
     "traceback": [
      "\u001B[0;31m---------------------------------------------------------------------------\u001B[0m",
      "\u001B[0;31mAttributeError\u001B[0m                            Traceback (most recent call last)",
      "Cell \u001B[0;32mIn[20], line 2\u001B[0m\n\u001B[1;32m      1\u001B[0m keywords \u001B[38;5;241m=\u001B[39m prof_name \u001B[38;5;241m+\u001B[39m\u001B[38;5;124m\"\u001B[39m\u001B[38;5;124m \u001B[39m\u001B[38;5;124m\"\u001B[39m \u001B[38;5;241m+\u001B[39m uni\n\u001B[0;32m----> 2\u001B[0m search_result \u001B[38;5;241m=\u001B[39m \u001B[43mgetGoogleResult\u001B[49m\u001B[43m(\u001B[49m\u001B[43mkeywords\u001B[49m\u001B[43m)\u001B[49m\n",
      "Cell \u001B[0;32mIn[16], line 14\u001B[0m, in \u001B[0;36mgetGoogleResult\u001B[0;34m(keywords)\u001B[0m\n\u001B[1;32m      7\u001B[0m params \u001B[38;5;241m=\u001B[39m {\n\u001B[1;32m      8\u001B[0m   \u001B[38;5;124m\"\u001B[39m\u001B[38;5;124mapi_key\u001B[39m\u001B[38;5;124m\"\u001B[39m: API_KEY_SERP,\n\u001B[1;32m      9\u001B[0m   \u001B[38;5;124m\"\u001B[39m\u001B[38;5;124mengine\u001B[39m\u001B[38;5;124m\"\u001B[39m: \u001B[38;5;124m\"\u001B[39m\u001B[38;5;124mgoogle_scholar\u001B[39m\u001B[38;5;124m\"\u001B[39m,\n\u001B[1;32m     10\u001B[0m   \u001B[38;5;124m\"\u001B[39m\u001B[38;5;124mq\u001B[39m\u001B[38;5;124m\"\u001B[39m: keywords,\n\u001B[1;32m     11\u001B[0m   \u001B[38;5;124m\"\u001B[39m\u001B[38;5;124mhl\u001B[39m\u001B[38;5;124m\"\u001B[39m: \u001B[38;5;124m\"\u001B[39m\u001B[38;5;124men\u001B[39m\u001B[38;5;124m\"\u001B[39m\n\u001B[1;32m     12\u001B[0m }\n\u001B[1;32m     13\u001B[0m \u001B[38;5;66;03m#search = GoogleSearch(params)\u001B[39;00m\n\u001B[0;32m---> 14\u001B[0m search \u001B[38;5;241m=\u001B[39m \u001B[43mserpapi\u001B[49m\u001B[38;5;241;43m.\u001B[39;49m\u001B[43msearch\u001B[49m(params)\n\u001B[1;32m     15\u001B[0m \u001B[38;5;28;01mreturn\u001B[39;00m(search)\n",
      "\u001B[0;31mAttributeError\u001B[0m: module 'serpapi' has no attribute 'search'"
     ]
    }
   ],
   "source": [
    "keywords = prof_name +\" \" + uni\n",
    "search_result = getGoogleResult(keywords)"
   ],
   "metadata": {
    "collapsed": false,
    "ExecuteTime": {
     "end_time": "2024-03-17T04:18:35.430243Z",
     "start_time": "2024-03-17T04:18:35.390948Z"
    }
   },
   "id": "235988563851bf70",
   "execution_count": 20
  },
  {
   "cell_type": "code",
   "outputs": [
    {
     "name": "stdout",
     "output_type": "stream",
     "text": [
      "SEARCHING HAS BEEN DONE\n"
     ]
    }
   ],
   "source": [
    "print(\"SEARCHING HAS BEEN DONE\")"
   ],
   "metadata": {
    "collapsed": false,
    "ExecuteTime": {
     "end_time": "2024-03-17T01:21:42.363660Z",
     "start_time": "2024-03-17T01:21:42.360405Z"
    }
   },
   "id": "e945a333f1ec8d6f",
   "execution_count": 31
  },
  {
   "cell_type": "code",
   "outputs": [
    {
     "name": "stdout",
     "output_type": "stream",
     "text": [
      "Title: Single-photon imaging over 200 km\n",
      "Snippet :Long-range active imaging has widespread applications in remote sensing and target recognition. Single-photon light detection and ranging (lidar) has been shown to have high …\n",
      "Publication_Summary…, Y Hong, C Yu, J Zhang, Q Zhang, CZ Peng, F Xu… - Optica, 2021 - opg.optica.org\n",
      "\n",
      "Title: Secure quantum key distribution with realistic devices\n",
      "Snippet :In principle, quantum key distribution (QKD) offers information-theoretic security based on the laws of physics. In practice, however, the imperfections of realistic devices might introduce …\n",
      "Publication_SummaryF Xu, X Ma, Q Zhang, HK Lo, JW Pan - Reviews of modern physics, 2020 - APS\n",
      "\n",
      "Title: Quantum information research in China\n",
      "Snippet :… Based on the established technology advances, USTC, together with Chinese Cable TV Corp, started to build the 'Beijing–Shanghai Quantum Secure Communication Backbone' in …\n",
      "Publication_SummaryQ Zhang, F Xu, L Li, NL Liu… - Quantum Science and …, 2019 - iopscience.iop.org\n",
      "\n",
      "Title: Non-line-of-sight imaging with picosecond temporal resolution\n",
      "Snippet :… The letters USTC and the word SCIENCE have the same size of 36 and 30 pt, respectively, … We use 64 × 64 and 128 × 128 grid sampling on the visible wall for the USTC and SCIENCE …\n",
      "Publication_SummaryB Wang, MY Zheng, JJ Han, X Huang, XP Xie, F Xu… - Physical Review Letters, 2021 - APS\n",
      "\n",
      "Title: Free-space and fiber-integrated measurement-device-independent quantum key distribution under high background noise\n",
      "Snippet :Measurement-device-independent quantum key distribution (MDI QKD) provides immunity against all attacks targeting measurement devices. It is essential to implement MDI QKD in …\n",
      "Publication_Summary…, SK Liao, JG Ren, H Li, L You, Z Wang, J Yin, F Xu… - Physical Review Letters, 2023 - APS\n",
      "\n",
      "Title: Device-Independent Quantum Key Distribution Based on the Mermin-Peres Magic Square Game\n",
      "Snippet :Device-independent quantum key distribution (DIQKD) is information-theoretically secure against adversaries who possess a scalable quantum computer and who have supplied …\n",
      "Publication_SummaryYZ Zhen, Y Mao, YZ Zhang, F Xu, BC Sanders - Physical Review Letters, 2023 - APS\n",
      "\n",
      "Title: High-speed measurement-device-independent quantum key distribution with integrated silicon photonics\n",
      "Snippet :Measurement-device-independent quantum key distribution (MDI QKD) removes all detector side channels and enables secure QKD with an untrusted relay. It is suitable for building a …\n",
      "Publication_Summary…, Z Wang, X Jiang, TY Chen, SK Liao, CZ Peng, F Xu… - Physical Review X, 2020 - APS\n",
      "\n",
      "Title: An integrated space-to-ground quantum communication network over 4,600 kilometres\n",
      "Snippet :Quantum key distribution (QKD) 1 , 2 has the potential to enable secure communication and information transfer 3 . In the laboratory, the feasibility of point-to-point QKD is evident from …\n",
      "Publication_Summary…, Y Cao, CY Lu, R Shu, JY Wang, L Li, NL Liu, F Xu… - Nature, 2021 - nature.com\n",
      "\n",
      "Title: Spaceborne, low-noise, single-photon detection for satellite-based quantum communications\n",
      "Snippet :Single-photon detectors (SPDs) play important roles in highly sensitive detection applications, such as fluorescence spectroscopy, remote sensing and ranging, deep space optical …\n",
      "Publication_SummaryM Yang, F Xu, JG Ren, J Yin, Y Li, Y Cao, Q Shen… - Optics express, 2019 - opg.optica.org\n",
      "\n",
      "Title: Boosting photon-efficient image reconstruction with a unified deep neural network\n",
      "Snippet :Photon-efficient imaging, which captures 3D images with single-photon sensors, has enabled a wide range of applications. However, two major challenges limit the reconstruction …\n",
      "Publication_Summary…, H Tan, X Huang, ZP Li, F Xu - IEEE Transactions on …, 2022 - ieeexplore.ieee.org\n"
     ]
    }
   ],
   "source": [
    "N = int(input(\"How many papers to include?\"))\n",
    "organic_results = search_result['organic_results'][:N]\n",
    "\n",
    "combined_results = \"\"\n",
    "\n",
    "for organic_result in organic_results:\n",
    "    title = organic_result['title']\n",
    "    snippet = organic_result['snippet']\n",
    "    publication_info = organic_result['publication_info']['summary']\n",
    "    combined_results += \"Title: \"+ title + \"\\n\" + \"Snippet :\" + snippet + \"\\n\" + \"Publication_Summary\" + publication_info + \"\\n\\n\"\n",
    "\n",
    "print(combined_results)"
   ],
   "metadata": {
    "collapsed": false,
    "ExecuteTime": {
     "end_time": "2024-03-17T01:23:04.861345Z",
     "start_time": "2024-03-17T01:23:02.759568Z"
    }
   },
   "id": "e676b036a60465b9",
   "execution_count": 34
  },
  {
   "cell_type": "code",
   "outputs": [],
   "source": [
    "# Now let's encapsulate this into a function"
   ],
   "metadata": {
    "collapsed": false,
    "ExecuteTime": {
     "end_time": "2024-03-17T12:10:39.219874Z",
     "start_time": "2024-03-17T12:10:39.215278Z"
    }
   },
   "id": "eda9e7352578b928",
   "execution_count": 30
  },
  {
   "cell_type": "code",
   "outputs": [],
   "source": [
    "def extract_academic_info(N, prof_name, uni): \n",
    "    \n",
    "    #Using Keywords to Search with SERP API\n",
    "    keywords = prof_name +\" \" + uni\n",
    "    search_result = getGoogleResult(keywords)\n",
    "\n",
    "    #N = int(input(\"How many papers to include?\"))\n",
    "    organic_results = search_result['organic_results'][:N]\n",
    "    \n",
    "    combined_results = \"\"\n",
    "    \n",
    "    for organic_result in organic_results:\n",
    "        title = organic_result['title']\n",
    "        snippet = organic_result['snippet']\n",
    "        publication_info = organic_result['publication_info']['summary']\n",
    "        combined_results += \"Title: \"+ title + \"\\n\" + \"Snippet :\" + snippet + \"\\n\" + \"Publication_Summary\" + publication_info + \"\\n\\n\"\n",
    "    \n",
    "    return combined_results"
   ],
   "metadata": {
    "collapsed": false,
    "ExecuteTime": {
     "end_time": "2024-03-17T12:12:31.473932Z",
     "start_time": "2024-03-17T12:12:31.462638Z"
    }
   },
   "id": "d24ee990ac5d6e1d",
   "execution_count": 37
  },
  {
   "cell_type": "code",
   "outputs": [
    {
     "data": {
      "text/plain": "\"Title: Inauguration of the Shing-Tung Yau Center at Tsinghua University\\nSnippet :… For instance, the mathematics center of Harvard University will invite a dozen Chinese … of them are professors at Tsinghua. And on the other hand, many Harvard professors have come …\\nPublication_SummaryST Yau - Notices of the International Consortium of Chinese …, 2015 - intlpress.com\\n\\nTitle: Shing-Tung Yau: Manifolds, Cosmos, China\\nSnippet :… with Tsinghua’s original Department of Mathematical Sciences with several adjunct appointments from the latter. Tsinghua … the faculty of Harvard’s physics department. He has visited …\\nPublication_SummaryYK Leong - Notices of the International Consortium of Chinese …, 2014 - intlpress.com\\n\\nTitle: Mathematics and its development in China\\nSnippet :… Recently I knew a student who was a former student at Tsinghua University. He is now studying for an engineering degree at Harvard University. He came to me and asked questions …\\nPublication_SummaryST Yau - Tsinghua Science and Technology, 1998 - ieeexplore.ieee.org\\n\\nTitle: The shape of a life\\nSnippet :… Harvard in this regard, which has served as a convivial home for me over the past thirty-plus years. I’ve had many terrific colleagues in the Harvard … colleague of mine at Harvard and an …\\nPublication_SummaryST Yau, SJ Nadis - 2019 - books.google.com\\n\\nTitle: President's Speech to the 2013 International Congress of Chinese Mathematicians\\nSnippet :… University, and the Tsinghua Center of Mathematics, where … This center is located at the Hsinchu Tsinghua University, … D students who became Benjamin Peirce Fellows at Harvard …\\nPublication_SummaryST Yau - Notices of the International Consortium of Chinese …, 2013 - intlpress.com\\n\\nTitle: Write-a-video: computational video montage from themed text.\\nSnippet :… SHING-TUNG YAU, Harvard University … is the corresponding author (shimin@tsinghua.edu.cn). This work was mainly completed while Miao Wang was a Postdoc at Tsinghua University. …\\nPublication_SummaryM Wang, GW Yang, SM Hu, ST Yau… - ACM Trans …, 2019 - cg.cs.tsinghua.edu.cn\\n\\nTitle: Homologies of path complexes and digraphs\\nSnippet :In this paper we introduce a path complex that can be regarded as a generalization of the notion of a simplicial complex. The main motivation for considering path complexes comes …\\nPublication_SummaryA Grigor'yan, Y Lin, Y Muranov, ST Yau - arXiv preprint arXiv:1207.2834, 2012 - arxiv.org\\n\\nTitle: Shiing-Shen Chern: A great geometer of 20th century\\nSnippet :… by Shing-Tung Yau* At the Center of Mathematical Sciences and Applications at Harvard … In this period, and also in the period when he was teaching at Tsinghua University (which …\\nPublication_SummaryST Yau - Notices of the International Consortium of Chinese …, 2020 - intlpress.com\\n\\nTitle: CRT Fractionalization, Fermions, and Mod 8 Periodicity\\nSnippet :Charge conjugation (C), mirror reflection (R), time reversal (T), and fermion parity $(-1)^{\\\\rm F}$ are basic discrete spacetime and internal symmetries of the Dirac fermions. In this article, …\\nPublication_SummaryZ Wan, J Wang, ST Yau, YZ You - arXiv preprint arXiv:2312.17126, 2023 - arxiv.org\\n\\nTitle: Chiral algebra of the Argyres-Douglas theory from M5 branes\\nSnippet :We study chiral algebras associated with Argyres-Douglas theories engineered from M5 branes. For the theory engineered using 6D (2, 0) type J theory on a sphere with a single …\\nPublication_SummaryD Xie, W Yan, ST Yau - Physical Review D, 2021 - APS\\n\\n\""
     },
     "execution_count": 39,
     "metadata": {},
     "output_type": "execute_result"
    }
   ],
   "source": [
    "extract_academic_info(10, \"Shing-Tung Yau\", \"Tsinghua, Harvard\")"
   ],
   "metadata": {
    "collapsed": false,
    "ExecuteTime": {
     "end_time": "2024-03-17T12:13:34.681720Z",
     "start_time": "2024-03-17T12:13:30.529548Z"
    }
   },
   "id": "5ca8fc6bcfaf4c1b",
   "execution_count": 39
  },
  {
   "cell_type": "code",
   "outputs": [],
   "source": [
    "import openai\n",
    "\n",
    "OPEN_AI_API_KEY = ''\n",
    "\n",
    "def getResponse(system, prompt, model):\n",
    "    openai.api_key = OPEN_AI_API_KEY\n",
    "    response = openai.ChatCompletion.create(\n",
    "        model=model,\n",
    "        messages=[\n",
    "            {\"role\": \"system\",\n",
    "             \"content\": system},\n",
    "            {\"role\": \"user\", \"content\": prompt}\n",
    "        ]\n",
    "    )\n",
    "    return response['choices'][0]['message']['content'], response['usage']['total_tokens']\n"
   ],
   "metadata": {
    "collapsed": false,
    "ExecuteTime": {
     "end_time": "2024-03-17T16:56:06.728227Z",
     "start_time": "2024-03-17T16:56:06.715866Z"
    }
   },
   "id": "38db3192a23f881e",
   "execution_count": 49
  },
  {
   "cell_type": "code",
   "outputs": [
    {
     "data": {
      "text/plain": "('Hello! How can I assist you today?', 21)"
     },
     "execution_count": 50,
     "metadata": {},
     "output_type": "execute_result"
    }
   ],
   "source": [
    "getResponse(\"Hi\", \"\", 'gpt-3.5-turbo')"
   ],
   "metadata": {
    "collapsed": false,
    "ExecuteTime": {
     "end_time": "2024-03-17T16:56:07.725156Z",
     "start_time": "2024-03-17T16:56:06.996442Z"
    }
   },
   "id": "123c61c258b7e159",
   "execution_count": 50
  },
  {
   "cell_type": "markdown",
   "source": [
    "### Building the final pipline\n"
   ],
   "metadata": {
    "collapsed": false
   },
   "id": "49651cdc28983072"
  },
  {
   "cell_type": "code",
   "outputs": [],
   "source": [
    "def getLetter(prof_name, name, university, model):\n",
    "    resume = fetch_resume(name)\n",
    "    N = 10\n",
    "    academic_info = extract_academic_info(N, prof_name, university)\n",
    "    oppo = \"research opportunities/online research assistant opportunity/research internship\"\n",
    "    time = \"from June to September, 2024\"\n",
    "    funding = \"do not need funding support\"\n",
    "    work_style = \"in person/online/both\"\n",
    "    system_prompt = f\"\"\"\n",
    "    Input: Information about my resume and the professor\n",
    "    Output: A quality letter to ask for {oppo} over {time}\n",
    "    \n",
    "    Take a deep breath. \n",
    "    \n",
    "    Your task is to write an email to introduce the me to professor {prof_name} to get {oppo}. I {funding}. I will be available {time}. I am willing to work {work_style}. Show these information in the email. \n",
    "    \n",
    "    You will be provided with the student’s resume and information about the professor. Analyze the research potential, academic skills, and unique qualities. Think step by step and analyse carefully. \n",
    "    \n",
    "    Importance rank: \n",
    "    Research experiences & potential: 70%,\n",
    "    Academic & technical skills: 25% [eg, technical internship/coding skills/analytical skills/modelling skills/past competition results and etc.]; \n",
    "    Unique qualities[eg. communication/leadership/responsibility]: 5% - one or two sentences are enough.\n",
    "    \n",
    "    Write the email in an inviting way to showcase the research potential of the student and how it fits/aligns with the professor’s research focus. Extract the most competitive and the most fit experience and analyse in priority. Write in good detail and structure. \n",
    "    \n",
    "    Things to note when writing the email. \n",
    "    \n",
    "    1. It will be nice to personalise this letter [rather than make it a generic one]. Hence, focus on the fit between the professor and my research profile. \n",
    "\n",
    "    Some Examples Paragraphs:\n",
    "    \n",
    "    Eg, \n",
    "    To take a further step, I also read your paper “XXX”that appeared recently in the journal \"Signal Processing & Data Mining\", and I am very interested in your idea of applying independent component analysis to data mining. Since I have also been involved in relevant research projects within the same field, I do hope to join in your research and work under your supervision during this upcoming summer. \n",
    "    \n",
    "    This is a good paragraph as it shows my understanding in professor’s research and gives my connections.\n",
    "    \n",
    "    Eg,\n",
    "    My analysis focused on the strengths and limitations of the diffusion model, particularly in synthesizing high-resolution images. Delving into their iterative reverse sampling process, I sought to optimize the balance between efficiency and quality in image generation. This aspect of my work parallels your 'FreeMask' project, where the generation of synthetic images is critical for efficient data annotation and collection. \n",
    "    \n",
    "    This is also a good paragraph as it explains good connections between my research and that of the professor’s. \n",
    "    \n",
    "    A bad example:\n",
    "    I want to do research with you because I need to do research in the summer and I found your website. \n",
    "    \n",
    "    This is bad because it does not showcase my passion in the specific field that the professor is working in. \n",
    "    \n",
    "    2.Show do not tell.\n",
    "    Don’t simply say that I am passionate in XX research. Showcase my experience in the field and my insights that make people feel that I am so passionate. \n",
    "    \n",
    "    3.This will be competitive\n",
    "    Every year a professor receives many such letters from their students. It is important to find the most competitive edge of the student’s research potential and also articulate the fit between the professor very strongly and clearly. \n",
    "    \n",
    "    4.An optional tip\n",
    "    In the process of reading the professors publications, you will surely have some questions, big or small. These questions are exactly the points that bring you closer to the other party in your letter. Here is an important skill: overseas professors value students' hands-on skills, in other words, the ability to combine theory with practical operation. Therefore, when you are reading publications and encounter questions, please try to combine the questionable part with a certain research experience you had before or a knowledge point you learned in class. This will make your cover letter very special: you are not just asking the other party for answers, but discussing and discussing a topic with them\n",
    "    \"\"\"\n",
    "    \n",
    "    user_prompt = f\"Here’s the publications by Professor {prof_name} from {university}: {academic_info} \\n Here's my resume: {resume}\" \n",
    "    \n",
    "    letter = getResponse(system_prompt, user_prompt, model)\n",
    "    \n",
    "    return letter"
   ],
   "metadata": {
    "collapsed": false,
    "ExecuteTime": {
     "end_time": "2024-03-17T16:56:10.042583Z",
     "start_time": "2024-03-17T16:56:10.033100Z"
    }
   },
   "id": "cf9dbdb569f8f4f4",
   "execution_count": 51
  },
  {
   "cell_type": "code",
   "outputs": [
    {
     "name": "stdout",
     "output_type": "stream",
     "text": [
      "- Study program: Oxford Engineering Science, 2nd year\r\n",
      "- Emphasis on engineering principles and scientific fundamentals \r\n",
      "- Likely covers advanced topics in mathematics, physics, mechanics, materials science, and electronics \r\n",
      "- Expected to have hands-on experience with various engineering projects and labs \r\n",
      "- Opportunity to specialize in different engineering disciplines \r\n",
      "- In-depth study of engineering design and problem-solving skills \r\n",
      "- Potential for collaborative projects with industry professionals and research institutions \r\n",
      "- Prestigious program offered by one of the world's top universities \r\n",
      "- Provides a strong foundation for a career in engineering or further studies at the graduate level.\n",
      "- President & Team Leader at Engineering Without Borders (2022.10-2023.09)\n",
      "  - Spearheaded a biomedical imaging project using advanced machine learning algorithms.\n",
      "  - Elected as President and led the recruitment of key committee and project roles.\n",
      "  - Managed society governance and responsibilities.\n",
      "\n",
      "- CEO and Founder of WeLight Tech (2021.12-2023.09)\n",
      "  - Developed an AI-course recommendation system for Chinese high school students.\n",
      "  - Pivoted focus to an AI-driven one-shop solution for college applications.\n",
      "  - Grew the team to 15 professionals and admitted into the Oxford Venture Builder program.\n",
      "\n",
      "- Founding President of Studies, Experiments, Applications (SEA) Academy (2020.04-2023.05)\n",
      "  - Established a non-profit platform to make research opportunities more accessible.\n",
      "  - Recruited scholars, built an academic community, and published a journal.\n",
      "  - Won the Innovation Challenge Prize from the Youth International Entrepreneurship Challenge.\n",
      "\n",
      "- Scholar in the Microsoft AI Talent Program (2022.01-2022.02)\n",
      "  - Practiced machine learning, python, and data processing.\n",
      "  - Presented a decision tree project and learned about Microsoft's developments.\n",
      "\n",
      "- Team Leader in the Tecent T-Spark Program (2020.08-2020.11)\n",
      "  - Learned computer vision, CNN, mini-app development, and data processing.\n",
      "  - Trained a CNN model and developed a Mini-App.\n",
      "  - Ranked 8th out of 1300+ teams in the Grand Final.\n",
      "\n",
      "- Researcher in Image Fusion, Computer Vision & Neural Network (2022.06-2023.08)\n",
      "  - Granted Fung Scholarship for groundbreaking research on image fusion.\n",
      "  - Developed novel single-view, multi-focus image fusion algorithms.\n",
      "  - Broadened applicability in diverse fields like medical imaging and remote sensing.\n",
      "\n",
      "- Scholar and Researcher in Equitech Scholars Programme (2022.06-2023.08)\n",
      "  - Conducted analysis on the correlation between university attributes and student mental health.\n",
      "  - Utilized NLP techniques to analyze university mottos and assess their semantic relationship.\n",
      "  - Concluded that university ranking and institutional ethos do not significantly affect student mental health.\n",
      "\n",
      "- Research Intern in Tencent Aspiring Explorers in Science (2022.06-2023.03)\n",
      "  - Modelled the None-Line-Of-Sight Imaging process and proposed a new algorithm.\n",
      "  - Reconstructed images with good quality and presented findings in an academic paper.\n",
      "\n",
      "- Author and Researcher in Machine Learning & Mechanics (2021.05-2021.11)\n",
      "  - Developed an LSTM-based model for simulating the chaotic behavior of double pendulums.\n",
      "  - Demonstrated cross-disciplinary innovation and published findings in a journal.\n",
      "\n",
      "Note: The information provided is based on the given text and may not be comprehensive.\n",
      "- Experience as an AI Engineer Summer Intern at HUAWEI Technology in Shanghai, China from Aug - Sept 2023.\n",
      "    - Constructed custom vector addition project using HUAWEI's CANN architecture and AscendC Language on 910B processor.\n",
      "    - Optimized the operator by adjusting the host-side memory management and tiling strategy to accommodate vectors of millions of bits.\n",
      "    - Built and generalized the RMS Norm Operator in C++ for improved efficiency and memory management in forward neural networks.\n",
      "\n",
      "- Worked as a Web Scraping Engineer (Micro-internship) at VANN Ltd in Oxfordshire, UK in March 2023.\n",
      "    - Developed a web-scraping tool in Selenium to extract information on clinical trials from public websites and reliable sources.\n",
      "    - Collected and processed over 3000 pieces of data from Cancer Research UK, contributing to the company's app development aimed at building a supportive platform for cancer patients.\n",
      "\n",
      "- Served as a Cybersecurity Consultant Intern at ZCRK Information Technology in Beijing, China from July - Sept 2021.\n",
      "    - Led a project for the startup that offers commercial insurance for L3-L4 autonomous vehicles in China.\n",
      "    - Designed an OTA Spectrum Poisoning Attack Detection System by utilizing white noise testing in spectrum data and ANN models.\n",
      "    - Performed extensive web scraping for different vehicle data, contributing to the company's database.\n",
      "    - Ran simulations to enhance the Detection System and implemented it in the company's insurance solution-generating platform.\n",
      "- Awards:\n",
      "  - National 1st, Tencent Aspiring Explorers in Science, 2023\n",
      "  - 7th, Europe Terminal, 2023\n",
      "  - National Finalist, Tencent Light Initiative, 2022\n",
      "  - 80th global, Princeton University Physics Competition, 2021\n",
      "  - Gold, American Physics Bowl, 2021\n",
      "  - Global Finalist, S.T. - Yau HS Computer Science Award, 2021\n",
      "  - National Finalist, Tencent T-Spark AI Future Camp, 2021\n",
      "  - Global 1st, Canadian Caribou Math Test, 2020\n",
      "\n",
      "- Computer Skills:\n",
      "  - Developing: Java, Python, Javascript, HTML, CSS\n",
      "  - Modelling: MATLAB, SIMULINK, Solidworks, Frame2D\n",
      "  - Front-end: Flutter, Material UI\n",
      "  - Backend: Flask, Wix Velo\n",
      "  - Version Control: Git, VI, Github\n",
      "  - Data Manipulation: Excel, Numpy, Pandas, Seaborn, Tableau\n",
      "  - Deep Learning: Resnet, LSTM, CNN, Transformer, RNN\n",
      "  - Web Scraping: BeautifulSoup, Selenium, Octopus\n",
      "\n",
      "- Language Skills:\n",
      "  - English, TOEFL: 118\n",
      "  - Japanese: JLPT: N3\n",
      "  - French, A1\n"
     ]
    },
    {
     "data": {
      "text/plain": "('Subject Line: Seeking Summer Research Internship Under Your Esteemed Guidance\\n\\nDear Professor Ioannis Gkioulekas,\\n\\nI hope this email finds you well. I am writing to express my interest in seeking an opportunity to work as a research intern under your esteemed guidance from June to September, 2024. I am currently a second-year student at the Oxford Engineering Science program, and my academic and research trajectory has consistently been geared towards the intersection of cutting-edge computer vision, machine learning, and graphics, which align well with your areas of expertise.\\n\\nYour recent publication, \"Boundary Value Caching for Walk on Spheres\", caught my attention. The work done on grid-free Monte Carlo methods to solve elliptic partial differential equations without mesh generation resonated with the research I conducted whilst a Research Intern at Tencent Aspiring Explorers in Science. I developed a model for None-Line-Of-Sight Imaging process and proposed a novel algorithm that efficiently reconstructed images. This parallel in our research interests leads me to believe that I could supplement your ongoing projects effectively.\\n\\nDuring my tenure as an AI Engineer Summer Intern at HUAWEI Technology, I gained valuable experience in improving memory management in forward neural networks and developed an in-depth understanding of optimization techniques. This hands-on experience combined with my academic learnings could potentially contribute to your ongoing ellipsoidal paths and time-gated rendering study, where efficiency and optimization seem paramount.\\n\\nFurther, as the CEO and Founder of WeLight Tech, employing AI for college application-related problems, I honed not only my technical abilities, but more importantly, skills regarding leadership, project management, and team communication. My unique background involved leading diverse teams and fostering a culture of innovation and problem-solving. I believe these skillsets could be contributive in a research setting.\\n\\nI would like to emphasize that I am very flexible and do not require any funding support. I am open to working in person, online, or a combination of both based on your preference and convenience. Dedicated to exploring the dimensions of experimental computer vision and machine learning, I am eager to contribute to your research during the upcoming summer.\\n\\nIf you could spare time for a subsequent discussion either via email or a Zoom call, I would be extremely grateful. It would be a great honor to work under your esteemed guidance and contribute to your esteemed research. Thank you for considering my application.\\n\\nSincerely,\\n[Your Name]\\n',\n 3516)"
     },
     "execution_count": 53,
     "metadata": {},
     "output_type": "execute_result"
    }
   ],
   "source": [
    "prof = 'Ioannis Gkioulekas'\n",
    "univ = \"CMU\"\n",
    "name = \"Xisen Wang\"\n",
    "model = 'gpt-4'\n",
    "getLetter(prof, name, univ, model)"
   ],
   "metadata": {
    "collapsed": false,
    "ExecuteTime": {
     "end_time": "2024-03-17T17:02:31.127480Z",
     "start_time": "2024-03-17T17:02:16.778806Z"
    }
   },
   "id": "ef0f59ba6ab01a99",
   "execution_count": 53
  },
  {
   "cell_type": "markdown",
   "source": [
    "Input: Information about my resume and the professor\n",
    "Output: A quality letter to ask for {research opportunities/research intern opportunities} over  {from june to july}\n",
    "\n",
    "Take a deep breath. \n",
    "\n",
    "Your task is to write an email to introduce the me to professor {name} to get {research opportunities/research intern opportunities}. I {need funding support}. I will be available {from june to july}. I am willing to work {in person/online/both}]. Show these information in the email. \n",
    "\n",
    "You will be provided with the student’s resume and information about the professor. Analyze the research potential, academic skills, and unique qualities. Think step by step and analyse carefully. \n",
    "\n",
    "Importance rank: \n",
    "Research experiences & potential: 70%,\n",
    "Academic & technical skills: 25% [eg, technical internship/coding skills/analytical skills/modelling skills/past competition results and etc.]; \n",
    "Unique qualities[eg. communication/leadership/responsibility]: 5% - one or two sentences are enough.\n",
    "\n",
    "Write the email in an inviting way to showcase the research potential of the student and how it fits/aligns with the professor’s research focus. Extract the most competitive and the most fit experience and analyse in priority. Write in good detail and structure. \n",
    "\n",
    "Things to note when writing the email.  1. It will be nice to personalise this letter [rather than make it a generic one]. Hence, focus on the fit between the professor and my research profile. \n",
    "\n",
    "Some Examples Paragraphs:\n",
    "\n",
    "Eg, \n",
    "To take a further step, I also read your paper “XXX”that appeared recently in the journal \"Signal Processing & Data Mining\", and I am very interested in your idea of applying independent component analysis to data mining. Since I have also been involved in relevant research projects within the same field, I do hope to join in your research and work under your supervision during this upcoming summer. \n",
    "\n",
    "This is a good paragraph as it shows my understanding in professor’s research and gives my connections.\n",
    "\n",
    "Eg,\n",
    "My analysis focused on the strengths and limitations of the diffusion model, particularly in synthesizing high-resolution images. Delving into their iterative reverse sampling process, I sought to optimize the balance between efficiency and quality in image generation. This aspect of my work parallels your 'FreeMask' project, where the generation of synthetic images is critical for efficient data annotation and collection. \n",
    "\n",
    "This is also a good paragraph as it explains good connections between my research and that of the professor’s. \n",
    "\n",
    "A bad example:\n",
    "I want to do research with you because I need to do research in the summer and I found your website. \n",
    "\n",
    "This is bad because it does not showcase my passion in the specific field that the professor is working in. \n",
    "\n",
    "2.Show do not tell.\n",
    "Don’t simply say that I am passionate in XX research. Showcase my experience in the field and my insights that make people feel that I am so passionate. \n",
    "\n",
    "3.This will be competitive\n",
    "Every year a professor receives many such letters from their students. It is important to find the most competitive edge of the student’s research potential and also articulate the fit between the professor very strongly and clearly. \n",
    "\n",
    "4.An optional tip\n",
    "In the process of reading the professors publications, you will surely have some questions, big or small. These questions are exactly the points that bring you closer to the other party in your letter. Here is an important skill: overseas professors value students' hands-on skills, in other words, the ability to combine theory with practical operation. Therefore, when you are reading publications and encounter questions, please try to combine the questionable part with a certain research experience you had before or a knowledge point you learned in class. This will make your cover letter very special: you are not just asking the other party for answers, but discussing and discussing a topic with them\n"
   ],
   "metadata": {
    "collapsed": false
   },
   "id": "8faef8ed1d011c28"
  },
  {
   "cell_type": "code",
   "outputs": [],
   "source": [],
   "metadata": {
    "collapsed": false
   },
   "id": "b17036044ed3c3a9"
  }
 ],
 "metadata": {
  "kernelspec": {
   "display_name": "Python 3",
   "language": "python",
   "name": "python3"
  },
  "language_info": {
   "codemirror_mode": {
    "name": "ipython",
    "version": 2
   },
   "file_extension": ".py",
   "mimetype": "text/x-python",
   "name": "python",
   "nbconvert_exporter": "python",
   "pygments_lexer": "ipython2",
   "version": "2.7.6"
  }
 },
 "nbformat": 4,
 "nbformat_minor": 5
}
